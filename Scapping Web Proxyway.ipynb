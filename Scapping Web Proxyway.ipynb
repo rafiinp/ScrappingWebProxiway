{
 "cells": [
  {
   "cell_type": "code",
   "execution_count": 1,
   "id": "b4eeb457",
   "metadata": {},
   "outputs": [
    {
     "name": "stdout",
     "output_type": "stream",
     "text": [
      "\n",
      "\n",
      "Sub Titles Page: 1 \n",
      "\n",
      "1 Smartproxy\n",
      "2 Oxylabs\n",
      "3 Bright Data\n",
      "4 SOAX\n",
      "5 NetNut\n",
      "6 Proxydrop\n",
      "7 Rayobyte\n",
      "8 GeoSurf\n",
      "9 Zyte (Crawlera)\n",
      "10 IPRoyal\n",
      "11 PacketStream\n",
      "12 Shifter\n",
      "\n",
      "\n",
      "Sub Titles Page: 2 \n",
      "\n",
      "1 Multilogin\n",
      "2 GoLogin\n",
      "3 Infatica\n",
      "4 Storm Proxies\n",
      "5 SERPMaster\n",
      "6 AstroProxy\n",
      "7 InstantProxies\n",
      "8 RSocks\n",
      "9 Iced Out Proxies\n",
      "10 Brazy Kicks\n",
      "11 The Proxy Store\n",
      "12 LimeProxies\n",
      "\n",
      "\n",
      "Sub Titles Page: 3 \n",
      "\n",
      "1 HighProxies\n",
      "2 MyPrivateProxy\n",
      "Data telah disimpan ke dalam file proxywayreviews.csv\n"
     ]
    }
   ],
   "source": [
    "#V3922034\n",
    "\n",
    "import csv\n",
    "import requests\n",
    "from bs4 import BeautifulSoup as bs\n",
    "\n",
    "URL = 'https://proxyway.com/reviews'\n",
    "\n",
    "data = []\n",
    "\n",
    "for page in range(1, 4):\n",
    "    print(\"\\n\")\n",
    "    print(\"Sub Titles Page:\", page, \"\\n\")\n",
    "\n",
    "    req = requests.get(f'{URL}/page/{page}')\n",
    "    soup = bs(req.text, 'html.parser')\n",
    "\n",
    "    titles = soup.find_all('h3', class_='archive-list__title')\n",
    "\n",
    "    for i, title in enumerate(titles):\n",
    "        print(f\"{i+1} {title.text}\")\n",
    "        data.append({\n",
    "            'Page Number': f'Page {page}',\n",
    "            'Title Number': f'Title {i+1}',\n",
    "            'Title Name': title.text\n",
    "        })\n",
    "\n",
    "# Menyimpan data ke dalam file CSV\n",
    "filename = 'proxywayreviews.csv'\n",
    "fieldnames = ['Page Number', 'Title Number', 'Title Name']\n",
    "\n",
    "with open(filename, 'w', newline='') as csvfile:\n",
    "    writer = csv.DictWriter(csvfile, fieldnames=fieldnames)\n",
    "    writer.writeheader()\n",
    "    writer.writerows(data)\n",
    "\n",
    "print(\"Data telah disimpan ke dalam file\", filename)"
   ]
  },
  {
   "cell_type": "code",
   "execution_count": null,
   "id": "abea0e41",
   "metadata": {},
   "outputs": [],
   "source": []
  }
 ],
 "metadata": {
  "kernelspec": {
   "display_name": "Python 3 (ipykernel)",
   "language": "python",
   "name": "python3"
  },
  "language_info": {
   "codemirror_mode": {
    "name": "ipython",
    "version": 3
   },
   "file_extension": ".py",
   "mimetype": "text/x-python",
   "name": "python",
   "nbconvert_exporter": "python",
   "pygments_lexer": "ipython3",
   "version": "3.9.12"
  }
 },
 "nbformat": 4,
 "nbformat_minor": 5
}
